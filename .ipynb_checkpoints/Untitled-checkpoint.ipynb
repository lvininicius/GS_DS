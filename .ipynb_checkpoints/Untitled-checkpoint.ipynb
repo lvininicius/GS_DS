{
 "cells": [
  {
   "cell_type": "markdown",
   "id": "8887b951-a024-40d3-9bce-7df279c3d9d9",
   "metadata": {},
   "source": [
    "# Bibliotecas para o funcionamento do programa  📔 "
   ]
  },
  {
   "cell_type": "code",
   "execution_count": 8,
   "id": "34a21441-94da-43a7-b3d7-e710e84ab448",
   "metadata": {},
   "outputs": [],
   "source": [
    "import pandas as pd\n",
    "import numpy as np\n",
    "import matplotlib.pyplot as plt\n",
    "import seaborn as sns\n",
    "from sklearn.model_selection import train_test_split\n",
    "from sklearn.linear_model import LinearRegression\n",
    "from sklearn.ensemble import RandomForestClassifier\n",
    "from sklearn.metrics import classification_report, mean_squared_error, accuracy_score"
   ]
  },
  {
   "cell_type": "markdown",
   "id": "aed7444c-b654-4c8a-a33d-09219da87f64",
   "metadata": {},
   "source": [
    "# Carregando o conjunto de dados de emissões de carbono  📈 \n",
    "\n",
    "FONTE - *Data on CO2 and Greenhouse Gas Emissions by Our World in Data: https://github.com/owid/co2-data*"
   ]
  },
  {
   "cell_type": "code",
   "execution_count": 24,
   "id": "845193fb-587f-418f-be8f-c0f443b165b0",
   "metadata": {},
   "outputs": [],
   "source": [
    "df = pd.read_csv('owid-co2-data.csv')\n"
   ]
  },
  {
   "cell_type": "markdown",
   "id": "06083b3f-bc23-41d8-9b0e-f9d8c93bf671",
   "metadata": {},
   "source": [
    "## Análise Exploratória dos Dados\n",
    "\n",
    "Descrição do Processo de Limpeza:\n",
    "\n",
    "Remover dados ausentes e inconsistentes.\n",
    "Filtrar registros irrelevantes e corrigir valores extremos.\n",
    "Verificar a consistência das variáveis e remover duplicatas.\n",
    "Realizar transformações de dados necessárias, como normalização e padronização.\n"
   ]
  },
  {
   "cell_type": "code",
   "execution_count": 27,
   "id": "c7e6e791-161f-423f-9da6-d556aa5ead79",
   "metadata": {},
   "outputs": [],
   "source": [
    "\n",
    "df = df.dropna()\n",
    "df = df.drop_duplicates()\n",
    "\n",
    "threshold = len(df) * 0.5\n",
    "df_cleaned = df.dropna(thresh=threshold, axis=1)\n",
    "\n",
    "df_cleaned.fillna(df_cleaned.select_dtypes(include=['float64', 'int64']).mean(), inplace=True)\n",
    "\n",
    "\n"
   ]
  },
  {
   "cell_type": "markdown",
   "id": "1b3713f2-2db9-4a67-918b-9b043c9d439a",
   "metadata": {},
   "source": [
    "### Calculando os 5 primeiros paises que mais emetiram carbono entre 1970 (Inicio da producao de micro computadores e computadores) ate a atualidade ano de 2024\n"
   ]
  },
  {
   "cell_type": "code",
   "execution_count": 26,
   "id": "e8052e83-8490-41e9-9ade-a4f2259cedcf",
   "metadata": {},
   "outputs": [],
   "source": [
    "df_filtered = df[(df['year'] >= 1970) & (df['year'] <= 2024)]\n",
    "total_emissions = df_filtered.groupby('country')['co2'].sum().sort_values(ascending=False)\n",
    "\n",
    "total_emissions = df_filtered.groupby('country')['co2'].sum().sort_values(ascending=False)\n",
    "top_emitters = total_emissions.head(5).index\n"
   ]
  },
  {
   "cell_type": "markdown",
   "id": "1d393f0b-1a0e-48a0-9444-9e7ab112c2d8",
   "metadata": {},
   "source": [
    "# Plotando Graficos"
   ]
  },
  {
   "cell_type": "code",
   "execution_count": null,
   "id": "64513139-2c88-4921-ac47-ff134affa0d9",
   "metadata": {},
   "outputs": [],
   "source": [
    "df_pivot.plot(figsize=(12, 8))\n",
    "plt.title('Emissões de CO₂ dos Maiores Emissores (1970-2024)')\n",
    "plt.xlabel('Ano')\n",
    "plt.ylabel('Emissões de CO₂ (milhões de toneladas)')\n",
    "plt.legend(title='País')\n",
    "plt.grid(True)\n",
    "plt.show()\n"
   ]
  },
  {
   "cell_type": "markdown",
   "id": "158b4fb5-a895-49d6-8c73-9bf136042c6d",
   "metadata": {},
   "source": [
    "# Modelagem de Machine Learning\n",
    "Para analisar e prever tendências, vamos utilizar dois algoritmos: regressão linear para prever valores numéricos e um classificador (Random Forest) para classificação de categorias de emissão."
   ]
  },
  {
   "cell_type": "markdown",
   "id": "3ac948e4-0182-489f-94c7-8a4ff01c48ca",
   "metadata": {},
   "source": [
    "1. Regressão Linear\n",
    "Usaremos o modelo de regressão linear para prever as emissões de CO2 futuras com base nos dados históricos."
   ]
  },
  {
   "cell_type": "code",
   "execution_count": null,
   "id": "69b9f7e2-4ab2-4d03-a386-a544317fd79f",
   "metadata": {},
   "outputs": [],
   "source": [
    "X = df[['Year']]\n",
    "y = df['CO2 Emissions (Mt)']\n",
    "X_train, X_test, y_train, y_test = train_test_split(X, y, test_size=0.3, random_state=42)\n",
    "\n",
    "linear_model = LinearRegression()\n",
    "linear_model.fit(X_train, y_train)\n",
    "\n",
    "y_pred = linear_model.predict(X_test)\n",
    "mse = mean_squared_error(y_test, y_pred)\n",
    "print(f'Mean Squared Error: {mse}')\n"
   ]
  },
  {
   "cell_type": "markdown",
   "id": "118817f0-6678-410d-9341-97465913fe91",
   "metadata": {},
   "source": [
    "# Criando uma coluna de categorias para classificar as regiões\n"
   ]
  },
  {
   "cell_type": "code",
   "execution_count": null,
   "id": "e44dca16-3cd0-489a-87e6-8eace314bc90",
   "metadata": {},
   "outputs": [],
   "source": [
    "df['Emission Category'] = pd.cut(df['Per Capita Emissions'], bins=[0, 5, 10, 15], labels=['Baixo', 'Médio', 'Alto'])\n"
   ]
  },
  {
   "cell_type": "markdown",
   "id": "55f22408-5f56-4b19-b748-e68cf91b358d",
   "metadata": {},
   "source": [
    "# Separando os dados para classificação\n"
   ]
  },
  {
   "cell_type": "code",
   "execution_count": null,
   "id": "be111f35-1e1e-4089-a08a-8fbf10f145c3",
   "metadata": {},
   "outputs": [],
   "source": [
    "X = df[['Year']]\n",
    "y = df['Emission Category']\n",
    "X_train, X_test, y_train, y_test = train_test_split(X, y, test_size=0.3, random_state=42)\n"
   ]
  },
  {
   "cell_type": "markdown",
   "id": "345ba817-b97c-494c-a7a7-2aa58969bf5b",
   "metadata": {},
   "source": [
    "# Treinando o modelo de classificação\n"
   ]
  },
  {
   "cell_type": "code",
   "execution_count": null,
   "id": "20f32897-c53b-4645-b154-d008bafc6494",
   "metadata": {},
   "outputs": [],
   "source": [
    "classifier = RandomForestClassifier()\n",
    "classifier.fit(X_train, y_train)"
   ]
  },
  {
   "cell_type": "markdown",
   "id": "416b33cc-2c0c-4476-954e-e92bdc3c42ff",
   "metadata": {},
   "source": [
    "# Avaliando o modelo de classificação\n"
   ]
  },
  {
   "cell_type": "code",
   "execution_count": null,
   "id": "07a56a5e-3215-46a3-8e9c-41357b86458b",
   "metadata": {},
   "outputs": [],
   "source": [
    "y_pred = classifier.predict(X_test)\n",
    "print(classification_report(y_test, y_pred))\n"
   ]
  }
 ],
 "metadata": {
  "kernelspec": {
   "display_name": "Python 3 (ipykernel)",
   "language": "python",
   "name": "python3"
  },
  "language_info": {
   "codemirror_mode": {
    "name": "ipython",
    "version": 3
   },
   "file_extension": ".py",
   "mimetype": "text/x-python",
   "name": "python",
   "nbconvert_exporter": "python",
   "pygments_lexer": "ipython3",
   "version": "3.11.2"
  }
 },
 "nbformat": 4,
 "nbformat_minor": 5
}
